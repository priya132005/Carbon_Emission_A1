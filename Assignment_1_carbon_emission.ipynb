{
 "cells": [
  {
   "cell_type": "code",
   "execution_count": 80,
   "id": "01ea2736-d97a-4c72-9ed4-280424a6ee7c",
   "metadata": {},
   "outputs": [],
   "source": [
    "import pandas as pd\n",
    "import numpy as np\n",
    "from functools import reduce\n",
    "from itertools import compress"
   ]
  },
  {
   "cell_type": "code",
   "execution_count": 82,
   "id": "f23d0a09-8474-4648-ac22-7e554ff6bf75",
   "metadata": {},
   "outputs": [
    {
     "name": "stdout",
     "output_type": "stream",
     "text": [
      "Requirement already satisfied: xlrd in c:\\users\\haris\\anaconda3\\lib\\site-packages (2.0.2)\n",
      "Note: you may need to restart the kernel to use updated packages.\n"
     ]
    },
    {
     "name": "stderr",
     "output_type": "stream",
     "text": [
      "\n",
      "[notice] A new release of pip is available: 25.0.1 -> 25.1.1\n",
      "[notice] To update, run: python.exe -m pip install --upgrade pip\n"
     ]
    }
   ],
   "source": [
    "pip install xlrd\n"
   ]
  },
  {
   "cell_type": "code",
   "execution_count": 84,
   "id": "4422b25a-fc83-43c7-9fd4-4d023a2dc2a4",
   "metadata": {},
   "outputs": [],
   "source": [
    "# Load data from Excel\n",
    "orig_data_file = r\"C:\\Users\\haris\\Downloads\\climate_change_download_0.xls\"\n",
    "data_sheet = \"Data\"\n",
    "data_orig = pd.read_excel(io=orig_data_file, sheet_name=data_sheet)"
   ]
  },
  {
   "cell_type": "code",
   "execution_count": 86,
   "id": "0104b004-efe1-4e5e-856e-440de58c21e5",
   "metadata": {},
   "outputs": [
    {
     "name": "stdout",
     "output_type": "stream",
     "text": [
      "Shape of the original dataset:\n",
      "(13512, 28)\n"
     ]
    }
   ],
   "source": [
    "# Print shape and column names\n",
    "print(\"Shape of the original dataset:\")\n",
    "print(data_orig.shape)"
   ]
  },
  {
   "cell_type": "code",
   "execution_count": 88,
   "id": "857c317c-a829-427a-a4d2-a093a32a38a8",
   "metadata": {},
   "outputs": [
    {
     "name": "stdout",
     "output_type": "stream",
     "text": [
      "Available columns:\n",
      "Index(['Country code', 'Country name',  'Series code',  'Series name',\n",
      "              'SCALE',     'Decimals',           1990,           1991,\n",
      "                 1992,           1993,           1994,           1995,\n",
      "                 1996,           1997,           1998,           1999,\n",
      "                 2000,           2001,           2002,           2003,\n",
      "                 2004,           2005,           2006,           2007,\n",
      "                 2008,           2009,           2010,           2011],\n",
      "      dtype='object')\n"
     ]
    }
   ],
   "source": [
    "print(\"Available columns:\")\n",
    "print(data_orig.columns)"
   ]
  },
  {
   "cell_type": "code",
   "execution_count": 90,
   "id": "658ac71e-933d-4ee5-bc9b-7ee71cf68e6e",
   "metadata": {},
   "outputs": [
    {
     "name": "stdout",
     "output_type": "stream",
     "text": [
      "Column data types:\n",
      "Country code    object\n",
      "Country name    object\n",
      "Series code     object\n",
      "Series name     object\n",
      "SCALE           object\n",
      "Decimals        object\n",
      "1990            object\n",
      "1991            object\n",
      "1992            object\n",
      "1993            object\n",
      "1994            object\n",
      "1995            object\n",
      "1996            object\n",
      "1997            object\n",
      "1998            object\n",
      "1999            object\n",
      "2000            object\n",
      "2001            object\n",
      "2002            object\n",
      "2003            object\n",
      "2004            object\n",
      "2005            object\n",
      "2006            object\n",
      "2007            object\n",
      "2008            object\n",
      "2009            object\n",
      "2010            object\n",
      "2011            object\n",
      "dtype: object\n"
     ]
    }
   ],
   "source": [
    "print(\"Column data types:\")\n",
    "print(data_orig.dtypes)"
   ]
  },
  {
   "cell_type": "code",
   "execution_count": 92,
   "id": "f12b2039-b88d-4263-97aa-65eeacf76070",
   "metadata": {},
   "outputs": [
    {
     "name": "stdout",
     "output_type": "stream",
     "text": [
      "Overview of the first 5 rows:\n",
      "  Country code Country name     Series code  \\\n",
      "0          ABW        Aruba  AG.LND.EL5M.ZS   \n",
      "1          ADO      Andorra  AG.LND.EL5M.ZS   \n",
      "2          AFG  Afghanistan  AG.LND.EL5M.ZS   \n",
      "3          AGO       Angola  AG.LND.EL5M.ZS   \n",
      "4          ALB      Albania  AG.LND.EL5M.ZS   \n",
      "\n",
      "                           Series name SCALE Decimals      1990 1991 1992  \\\n",
      "0  Land area below 5m (% of land area)     0        1  29.57481   ..   ..   \n",
      "1  Land area below 5m (% of land area)     0        1         0   ..   ..   \n",
      "2  Land area below 5m (% of land area)     0        1         0   ..   ..   \n",
      "3  Land area below 5m (% of land area)     0        1  0.208235   ..   ..   \n",
      "4  Land area below 5m (% of land area)     0        1  4.967875   ..   ..   \n",
      "\n",
      "  1993  ... 2002 2003 2004 2005 2006 2007 2008 2009 2010 2011  \n",
      "0   ..  ...   ..   ..   ..   ..   ..   ..   ..   ..   ..   ..  \n",
      "1   ..  ...   ..   ..   ..   ..   ..   ..   ..   ..   ..   ..  \n",
      "2   ..  ...   ..   ..   ..   ..   ..   ..   ..   ..   ..   ..  \n",
      "3   ..  ...   ..   ..   ..   ..   ..   ..   ..   ..   ..   ..  \n",
      "4   ..  ...   ..   ..   ..   ..   ..   ..   ..   ..   ..   ..  \n",
      "\n",
      "[5 rows x 28 columns]\n"
     ]
    }
   ],
   "source": [
    "print(\"Overview of the first 5 rows:\")\n",
    "print(data_orig.head())"
   ]
  },
  {
   "cell_type": "code",
   "execution_count": 94,
   "id": "5b99135b-5350-471e-ba10-ae610e55489b",
   "metadata": {},
   "outputs": [
    {
     "name": "stdout",
     "output_type": "stream",
     "text": [
      "Descriptive statistics of the columns:\n",
      "       Country code Country name     Series code  \\\n",
      "count         13512        13512           13512   \n",
      "unique          233          233              58   \n",
      "top             ABW        Aruba  AG.LND.EL5M.ZS   \n",
      "freq             58           58             233   \n",
      "\n",
      "                                Series name  SCALE  Decimals   1990   1991  \\\n",
      "count                                 13512  13512     13512  10017  10017   \n",
      "unique                                   58      2         3   4355   3398   \n",
      "top     Land area below 5m (% of land area)      0         1     ..     ..   \n",
      "freq                                    233  10017      5823   5163   6520   \n",
      "\n",
      "         1992   1993  ...   2002   2003   2004   2005   2006   2007   2008  \\\n",
      "count   10017  10017  ...  10017  10017  10017  10017  10017  10017  10017   \n",
      "unique   3523   3583  ...   3877   3869   4007   4484   4008   4047   4080   \n",
      "top        ..     ..  ...     ..     ..     ..     ..     ..     ..     ..   \n",
      "freq     6364   6300  ...   5960   5974   5792   4933   5781   5769   5414   \n",
      "\n",
      "         2009   2010   2011  \n",
      "count   10017  10017  12382  \n",
      "unique   3506   2164   1434  \n",
      "top        ..     ..     ..  \n",
      "freq     6256   7685  10244  \n",
      "\n",
      "[4 rows x 28 columns]\n"
     ]
    }
   ],
   "source": [
    "print(\"Descriptive statistics of the columns:\")\n",
    "print(data_orig.describe())"
   ]
  },
  {
   "cell_type": "code",
   "execution_count": 96,
   "id": "a0c42db9-dd03-46c7-8b17-85aae7be30db",
   "metadata": {},
   "outputs": [
    {
     "name": "stdout",
     "output_type": "stream",
     "text": [
      "Unique 'Series name':\n",
      "['Land area below 5m (% of land area)'\n",
      " 'Agricultural land under irrigation (% of total ag. land)'\n",
      " 'Cereal yield (kg per hectare)'\n",
      " 'Foreign direct investment, net inflows (% of GDP)'\n",
      " 'Access to electricity (% of total population)'\n",
      " 'Energy use per units of GDP (kg oil eq./$1,000 of 2005 PPP $)'\n",
      " 'Energy use per capita (kilograms of oil equivalent)'\n",
      " 'CO2 emissions, total (KtCO2)' 'CO2 emissions per capita (metric tons)'\n",
      " 'CO2 emissions per units of GDP (kg/$1,000 of 2005 PPP $)'\n",
      " 'Other GHG emissions, total (KtCO2e)'\n",
      " 'Methane (CH4) emissions, total (KtCO2e)'\n",
      " 'Nitrous oxide (N2O) emissions, total (KtCO2e)'\n",
      " 'Annex-I emissions reduction target'\n",
      " 'Disaster risk reduction progress score (1-5 scale; 5=best)'\n",
      " 'GHG net emissions/removals by LUCF (MtCO2e)'\n",
      " 'Hosted Clean Development Mechanism (CDM) projects'\n",
      " 'Hosted Joint Implementation (JI) projects'\n",
      " 'Average annual precipitation (1961-1990, mm)'\n",
      " 'Issued Certified Emission Reductions (CERs) from CDM (thousands)'\n",
      " 'Issued Emission Reduction Units (ERUs) from JI (thousands)'\n",
      " 'Droughts, floods, extreme temps (% pop. avg. 1990-2009)'\n",
      " 'Average daily min/max temperature (1961-1990, Celsius)'\n",
      " 'NAMA submission' 'NAPA submission'\n",
      " 'Latest UNFCCC national communication'\n",
      " 'Projected annual temperature change (2045-2065, Celsius)'\n",
      " 'Projected change in annual cool days/cold nights'\n",
      " 'Projected change in annual hot days/warm nights'\n",
      " 'Projected annual precipitation change (2045-2065, mm)'\n",
      " 'Renewable energy target' 'Population below 5m (% of total)'\n",
      " 'Population in urban agglomerations >1million (%)'\n",
      " 'Annual freshwater withdrawals (% of internal resources)'\n",
      " 'Nationally terrestrial protected areas (% of total land area)'\n",
      " 'Ease of doing business (ranking 1-183; 1=best)'\n",
      " 'Invest. in energy w/ private participation ($)'\n",
      " 'Invest. in telecoms w/ private participation ($)'\n",
      " 'Invest. in transport w/ private participation ($)'\n",
      " 'Invest. in water/sanit. w/ private participation ($)'\n",
      " 'Public sector mgmt & institutions avg. (1-6 scale; 6=best)'\n",
      " 'Paved roads (% of total roads)' 'GDP ($)' 'GNI per capita (Atlas $)'\n",
      " 'Ratio of girls to boys in primary & secondary school (%)'\n",
      " 'Primary completion rate, total (% of relevant age group)'\n",
      " 'Under-five mortality rate (per 1,000)'\n",
      " 'Access to improved water source (% of total pop.)'\n",
      " 'Nurses and midwives (per 1,000 people)' 'Physicians (per 1,000 people)'\n",
      " 'Malaria incidence rate (per 100,000 people)'\n",
      " 'Access to improved sanitation (% of total pop.)'\n",
      " 'Child malnutrition, underweight (% of under age 5)'\n",
      " 'Population living below $1.25 a day (% of total)'\n",
      " 'Population growth (annual %)' 'Population'\n",
      " 'Urban population growth (annual %)' 'Urban population']\n"
     ]
    }
   ],
   "source": [
    "print(\"Unique 'Series name':\")\n",
    "print(data_orig['Series name'].unique())"
   ]
  },
  {
   "cell_type": "code",
   "execution_count": 98,
   "id": "9c35320e-b4cd-4996-a26d-54a063da7f68",
   "metadata": {},
   "outputs": [
    {
     "name": "stdout",
     "output_type": "stream",
     "text": [
      "Unique 'Series code':\n",
      "['AG.LND.EL5M.ZS' 'AG.LND.IRIG.AG.ZS' 'AG.YLD.CREL.KG'\n",
      " 'BX.KLT.DINV.WD.GD.ZS' 'EG.ELC.ACCS.ZS' 'EG.USE.COMM.GD.PP.KD'\n",
      " 'EG.USE.PCAP.KG.OE' 'EN.ATM.CO2E.KT' 'EN.ATM.CO2E.PC'\n",
      " 'EN.ATM.CO2E.PP.GD.KD' 'EN.ATM.GHGO.KT.CE' 'EN.ATM.METH.KT.CE'\n",
      " 'EN.ATM.NOXE.KT.CE' 'EN.CLC.AERT' 'EN.CLC.DRSK.XQ' 'EN.CLC.GHGR.MT.CE'\n",
      " 'EN.CLC.HCDM' 'EN.CLC.HJIP' 'EN.CLC.HPPT.MM' 'EN.CLC.ICER' 'EN.CLC.IERU'\n",
      " 'EN.CLC.MDAT.ZS' 'EN.CLC.MMDT.C' 'EN.CLC.NAMA' 'EN.CLC.NAPA'\n",
      " 'EN.CLC.NCOM' 'EN.CLC.PCAT.C' 'EN.CLC.PCCC' 'EN.CLC.PCHW'\n",
      " 'EN.CLC.PCPT.MM' 'EN.CLC.RNET' 'EN.POP.EL5M.ZS' 'EN.URB.MCTY.TL.ZS'\n",
      " 'ER.H2O.FWTL.ZS' 'ER.LND.PTLD.ZS' 'IC.BUS.EASE.XQ' 'IE.PPI.ENGY.CD'\n",
      " 'IE.PPI.TELE.CD' 'IE.PPI.TRAN.CD' 'IE.PPI.WATR.CD' 'IQ.CPA.PUBS.XQ'\n",
      " 'IS.ROD.PAVE.ZS' 'NY.GDP.MKTP.CD' 'NY.GNP.PCAP.CD' 'SE.ENR.PRSC.FM.ZS'\n",
      " 'SE.PRM.CMPT.ZS' 'SH.DYN.MORT' 'SH.H2O.SAFE.ZS' 'SH.MED.NUMW.P3'\n",
      " 'SH.MED.PHYS.ZS' 'SH.MLR.INCD' 'SH.STA.ACSN' 'SH.STA.MALN.ZS'\n",
      " 'SI.POV.DDAY' 'SP.POP.GROW' 'SP.POP.TOTL' 'SP.URB.GROW' 'SP.URB.TOTL']\n"
     ]
    }
   ],
   "source": [
    "print(\"Unique 'Series code':\")\n",
    "print(data_orig['Series code'].unique())"
   ]
  },
  {
   "cell_type": "code",
   "execution_count": 100,
   "id": "e96eb312-0b9e-4cb9-9f5c-67e62308378f",
   "metadata": {},
   "outputs": [
    {
     "name": "stdout",
     "output_type": "stream",
     "text": [
      "Unique 'SCALE':\n",
      "[0 'Text']\n"
     ]
    }
   ],
   "source": [
    "print(\"Unique 'SCALE':\")\n",
    "print(data_orig['SCALE'].unique())"
   ]
  },
  {
   "cell_type": "code",
   "execution_count": 102,
   "id": "c7887d4e-cae6-4144-8330-5cc617ccf46f",
   "metadata": {},
   "outputs": [
    {
     "name": "stdout",
     "output_type": "stream",
     "text": [
      "Unique 'Decimals':\n",
      "[1 0 'Text']\n"
     ]
    }
   ],
   "source": [
    "print(\"Unique 'Decimals':\")\n",
    "print(data_orig['Decimals'].unique())"
   ]
  },
  {
   "cell_type": "code",
   "execution_count": 104,
   "id": "660c8f0f-39eb-4968-bdf2-8bd6687aa02a",
   "metadata": {},
   "outputs": [
    {
     "name": "stdout",
     "output_type": "stream",
     "text": [
      "Rows with SCALE as 'Text':\n",
      "     Country code      Country name  Series code  \\\n",
      "3029          ABW             Aruba  EN.CLC.AERT   \n",
      "3030          ADO           Andorra  EN.CLC.AERT   \n",
      "3031          AFG       Afghanistan  EN.CLC.AERT   \n",
      "3032          AGO            Angola  EN.CLC.AERT   \n",
      "3033          ALB           Albania  EN.CLC.AERT   \n",
      "...           ...               ...          ...   \n",
      "7218          YEM       Yemen, Rep.  EN.CLC.RNET   \n",
      "7219          ZAF      South Africa  EN.CLC.RNET   \n",
      "7220          ZAR  Congo, Dem. Rep.  EN.CLC.RNET   \n",
      "7221          ZMB            Zambia  EN.CLC.RNET   \n",
      "7222          ZWE          Zimbabwe  EN.CLC.RNET   \n",
      "\n",
      "                             Series name SCALE Decimals 1990 1991 1992 1993  \\\n",
      "3029  Annex-I emissions reduction target  Text     Text  NaN  NaN  NaN  NaN   \n",
      "3030  Annex-I emissions reduction target  Text     Text  NaN  NaN  NaN  NaN   \n",
      "3031  Annex-I emissions reduction target  Text     Text  NaN  NaN  NaN  NaN   \n",
      "3032  Annex-I emissions reduction target  Text     Text  NaN  NaN  NaN  NaN   \n",
      "3033  Annex-I emissions reduction target  Text     Text  NaN  NaN  NaN  NaN   \n",
      "...                                  ...   ...      ...  ...  ...  ...  ...   \n",
      "7218             Renewable energy target  Text     Text  NaN  NaN  NaN  NaN   \n",
      "7219             Renewable energy target  Text     Text  NaN  NaN  NaN  NaN   \n",
      "7220             Renewable energy target  Text     Text  NaN  NaN  NaN  NaN   \n",
      "7221             Renewable energy target  Text     Text  NaN  NaN  NaN  NaN   \n",
      "7222             Renewable energy target  Text     Text  NaN  NaN  NaN  NaN   \n",
      "\n",
      "      ... 2002 2003 2004 2005 2006 2007 2008 2009 2010 2011  \n",
      "3029  ...  NaN  NaN  NaN  NaN  NaN  NaN  NaN  NaN  NaN  NaN  \n",
      "3030  ...  NaN  NaN  NaN  NaN  NaN  NaN  NaN  NaN  NaN  NaN  \n",
      "3031  ...  NaN  NaN  NaN  NaN  NaN  NaN  NaN  NaN  NaN  NaN  \n",
      "3032  ...  NaN  NaN  NaN  NaN  NaN  NaN  NaN  NaN  NaN  NaN  \n",
      "3033  ...  NaN  NaN  NaN  NaN  NaN  NaN  NaN  NaN  NaN  NaN  \n",
      "...   ...  ...  ...  ...  ...  ...  ...  ...  ...  ...  ...  \n",
      "7218  ...  NaN  NaN  NaN  NaN  NaN  NaN  NaN  NaN  NaN   ..  \n",
      "7219  ...  NaN  NaN  NaN  NaN  NaN  NaN  NaN  NaN  NaN  Yes  \n",
      "7220  ...  NaN  NaN  NaN  NaN  NaN  NaN  NaN  NaN  NaN   ..  \n",
      "7221  ...  NaN  NaN  NaN  NaN  NaN  NaN  NaN  NaN  NaN   ..  \n",
      "7222  ...  NaN  NaN  NaN  NaN  NaN  NaN  NaN  NaN  NaN   ..  \n",
      "\n",
      "[3495 rows x 28 columns]\n"
     ]
    }
   ],
   "source": [
    "print(\"Rows with SCALE as 'Text':\")\n",
    "print(data_orig[data_orig['SCALE'] == 'Text'])"
   ]
  },
  {
   "cell_type": "code",
   "execution_count": 106,
   "id": "678afeb0-6042-425a-9a23-f6b17c9001f2",
   "metadata": {},
   "outputs": [
    {
     "name": "stdout",
     "output_type": "stream",
     "text": [
      "Rows with Decimals as 'Text':\n",
      "     Country code      Country name  Series code  \\\n",
      "3029          ABW             Aruba  EN.CLC.AERT   \n",
      "3030          ADO           Andorra  EN.CLC.AERT   \n",
      "3031          AFG       Afghanistan  EN.CLC.AERT   \n",
      "3032          AGO            Angola  EN.CLC.AERT   \n",
      "3033          ALB           Albania  EN.CLC.AERT   \n",
      "...           ...               ...          ...   \n",
      "7218          YEM       Yemen, Rep.  EN.CLC.RNET   \n",
      "7219          ZAF      South Africa  EN.CLC.RNET   \n",
      "7220          ZAR  Congo, Dem. Rep.  EN.CLC.RNET   \n",
      "7221          ZMB            Zambia  EN.CLC.RNET   \n",
      "7222          ZWE          Zimbabwe  EN.CLC.RNET   \n",
      "\n",
      "                             Series name SCALE Decimals 1990 1991 1992 1993  \\\n",
      "3029  Annex-I emissions reduction target  Text     Text  NaN  NaN  NaN  NaN   \n",
      "3030  Annex-I emissions reduction target  Text     Text  NaN  NaN  NaN  NaN   \n",
      "3031  Annex-I emissions reduction target  Text     Text  NaN  NaN  NaN  NaN   \n",
      "3032  Annex-I emissions reduction target  Text     Text  NaN  NaN  NaN  NaN   \n",
      "3033  Annex-I emissions reduction target  Text     Text  NaN  NaN  NaN  NaN   \n",
      "...                                  ...   ...      ...  ...  ...  ...  ...   \n",
      "7218             Renewable energy target  Text     Text  NaN  NaN  NaN  NaN   \n",
      "7219             Renewable energy target  Text     Text  NaN  NaN  NaN  NaN   \n",
      "7220             Renewable energy target  Text     Text  NaN  NaN  NaN  NaN   \n",
      "7221             Renewable energy target  Text     Text  NaN  NaN  NaN  NaN   \n",
      "7222             Renewable energy target  Text     Text  NaN  NaN  NaN  NaN   \n",
      "\n",
      "      ... 2002 2003 2004 2005 2006 2007 2008 2009 2010 2011  \n",
      "3029  ...  NaN  NaN  NaN  NaN  NaN  NaN  NaN  NaN  NaN  NaN  \n",
      "3030  ...  NaN  NaN  NaN  NaN  NaN  NaN  NaN  NaN  NaN  NaN  \n",
      "3031  ...  NaN  NaN  NaN  NaN  NaN  NaN  NaN  NaN  NaN  NaN  \n",
      "3032  ...  NaN  NaN  NaN  NaN  NaN  NaN  NaN  NaN  NaN  NaN  \n",
      "3033  ...  NaN  NaN  NaN  NaN  NaN  NaN  NaN  NaN  NaN  NaN  \n",
      "...   ...  ...  ...  ...  ...  ...  ...  ...  ...  ...  ...  \n",
      "7218  ...  NaN  NaN  NaN  NaN  NaN  NaN  NaN  NaN  NaN   ..  \n",
      "7219  ...  NaN  NaN  NaN  NaN  NaN  NaN  NaN  NaN  NaN  Yes  \n",
      "7220  ...  NaN  NaN  NaN  NaN  NaN  NaN  NaN  NaN  NaN   ..  \n",
      "7221  ...  NaN  NaN  NaN  NaN  NaN  NaN  NaN  NaN  NaN   ..  \n",
      "7222  ...  NaN  NaN  NaN  NaN  NaN  NaN  NaN  NaN  NaN   ..  \n",
      "\n",
      "[3495 rows x 28 columns]\n"
     ]
    }
   ],
   "source": [
    "print(\"Rows with Decimals as 'Text':\")\n",
    "print(data_orig[data_orig['Decimals'] == 'Text'])"
   ]
  },
  {
   "cell_type": "code",
   "execution_count": 108,
   "id": "bb6607f4-5c97-4b73-8987-52782449f8a5",
   "metadata": {},
   "outputs": [
    {
     "name": "stdout",
     "output_type": "stream",
     "text": [
      "Original number of rows:\n",
      "13512\n"
     ]
    }
   ],
   "source": [
    "# Assign to a modifiable DataFrame\n",
    "data_clean = data_orig.copy()\n",
    "\n",
    "print(\"Original number of rows:\")\n",
    "print(data_clean.shape[0])"
   ]
  },
  {
   "cell_type": "code",
   "execution_count": 110,
   "id": "c2d3aff3-a940-4823-95a2-f681a0636f55",
   "metadata": {},
   "outputs": [
    {
     "name": "stdout",
     "output_type": "stream",
     "text": [
      "Current number of rows:\n",
      "10017\n"
     ]
    }
   ],
   "source": [
    "# Remove text-based rows\n",
    "data_clean = data_clean[data_clean['SCALE'] != 'Text']\n",
    "\n",
    "print(\"Current number of rows:\")\n",
    "print(data_clean.shape[0])"
   ]
  },
  {
   "cell_type": "code",
   "execution_count": 112,
   "id": "108fd0c5-c4ff-497b-8ab7-50d37029cdd6",
   "metadata": {},
   "outputs": [
    {
     "name": "stdout",
     "output_type": "stream",
     "text": [
      "Original number of columns:\n",
      "28\n",
      "Current number of columns:\n",
      "24\n"
     ]
    }
   ],
   "source": [
    "# Drop unnecessary columns\n",
    "print(\"Original number of columns:\")\n",
    "print(data_clean.shape[1])\n",
    "\n",
    "data_clean = data_clean.drop(['Country name', 'Series code', 'SCALE', 'Decimals'], axis='columns')\n",
    "\n",
    "print(\"Current number of columns:\")\n",
    "print(data_clean.shape[1])"
   ]
  },
  {
   "cell_type": "code",
   "execution_count": 114,
   "id": "0ca27ad7-7999-4dc9-ad71-2bcb0a357fb7",
   "metadata": {},
   "outputs": [
    {
     "name": "stderr",
     "output_type": "stream",
     "text": [
      "C:\\Users\\haris\\AppData\\Local\\Temp\\ipykernel_22244\\3947491574.py:2: FutureWarning: Downcasting behavior in `replace` is deprecated and will be removed in a future version. To retain the old behavior, explicitly call `result.infer_objects(copy=False)`. To opt-in to the future behavior, set `pd.set_option('future.no_silent_downcasting', True)`\n",
      "  temp = data_clean.iloc[:, 2:].replace({'': np.nan, '..': np.nan}).infer_objects(copy=False)\n"
     ]
    }
   ],
   "source": [
    "# Create a temporary cleaned copy of the numeric columns\n",
    "temp = data_clean.iloc[:, 2:].replace({'': np.nan, '..': np.nan}).infer_objects(copy=False)\n",
    "\n",
    "# Assign the cleaned result back\n",
    "data_clean.iloc[:, 2:] = temp\n"
   ]
  },
  {
   "cell_type": "code",
   "execution_count": 116,
   "id": "496820d8-e500-4c1e-b415-e13d834ccb91",
   "metadata": {},
   "outputs": [
    {
     "name": "stderr",
     "output_type": "stream",
     "text": [
      "C:\\Users\\haris\\AppData\\Local\\Temp\\ipykernel_22244\\1967718769.py:2: FutureWarning: DataFrame.applymap has been deprecated. Use DataFrame.map instead.\n",
      "  data_clean = data_clean.applymap(lambda x: pd.to_numeric(x, errors='ignore'))\n",
      "C:\\Users\\haris\\AppData\\Local\\Temp\\ipykernel_22244\\1967718769.py:2: FutureWarning: errors='ignore' is deprecated and will raise in a future version. Use to_numeric without passing `errors` and catch exceptions explicitly instead\n",
      "  data_clean = data_clean.applymap(lambda x: pd.to_numeric(x, errors='ignore'))\n"
     ]
    }
   ],
   "source": [
    "# Ensure numeric conversion (only on numeric columns)\n",
    "data_clean = data_clean.applymap(lambda x: pd.to_numeric(x, errors='ignore'))"
   ]
  },
  {
   "cell_type": "code",
   "execution_count": 118,
   "id": "7f64a5cc-e10b-496a-b3ae-86f5acc8bf7d",
   "metadata": {},
   "outputs": [],
   "source": [
    "# Define short variable names\n",
    "chosen_vars = {\n",
    "    'Cereal yield (kg per hectare)': 'cereal_yield',\n",
    "    'Foreign direct investment, net inflows (% of GDP)': 'fdi_perc_gdp',\n",
    "    'Access to electricity (% of total population)': 'elec_access_perc',\n",
    "    'Energy use per units of GDP (kg oil eq./$1,000 of 2005 PPP $)': 'en_per_gdp',\n",
    "    'Energy use per capita (kilograms of oil equivalent)': 'en_per_cap',\n",
    "    'CO2 emissions, total (KtCO2)': 'co2_ttl',\n",
    "    'CO2 emissions per capita (metric tons)': 'co2_per_cap',\n",
    "    'CO2 emissions per units of GDP (kg/$1,000 of 2005 PPP $)': 'co2_per_gdp',\n",
    "    'Other GHG emissions, total (KtCO2e)': 'other_ghg_ttl',\n",
    "    'Methane (CH4) emissions, total (KtCO2e)': 'ch4_ttl',\n",
    "    'Nitrous oxide (N2O) emissions, total (KtCO2e)': 'n2o_ttl',\n",
    "    'Droughts, floods, extreme temps (% pop. avg. 1990-2009)': 'nat_emerg',\n",
    "    'Population in urban agglomerations >1million (%)': 'pop_urb_aggl_perc',\n",
    "    'Nationally terrestrial protected areas (% of total land area)': 'prot_area_perc',\n",
    "    'GDP ($)': 'gdp',\n",
    "    'GNI per capita (Atlas $)': 'gni_per_cap',\n",
    "    'Under-five mortality rate (per 1,000)': 'under_5_mort_rate',\n",
    "    'Population growth (annual %)': 'pop_growth_perc',\n",
    "    'Population': 'pop',\n",
    "    'Urban population growth (annual %)': 'urb_pop_growth_perc',\n",
    "    'Urban population': 'urb_pop'\n",
    "}\n"
   ]
  },
  {
   "cell_type": "code",
   "execution_count": 120,
   "id": "e7dfff5d-6264-423e-93b3-85dbea389f3b",
   "metadata": {},
   "outputs": [],
   "source": [
    "# Rename 'Series name'\n",
    "data_clean2 = data_clean.copy()\n",
    "data_clean2['Series name'] = data_clean2['Series name'].replace(to_replace=chosen_vars)"
   ]
  },
  {
   "cell_type": "code",
   "execution_count": 122,
   "id": "e26e24cc-2d6f-4c53-ab89-546f55d8f32b",
   "metadata": {},
   "outputs": [],
   "source": [
    "# Save short feature names\n",
    "chosen_cols = list(chosen_vars.values())"
   ]
  },
  {
   "cell_type": "code",
   "execution_count": 124,
   "id": "1c4a9253-486a-4d2d-a3a2-f8d5110e84bf",
   "metadata": {},
   "outputs": [],
   "source": [
    "# Melt and merge\n",
    "frame_list = []\n",
    "for variable in chosen_cols:\n",
    "    frame = data_clean2[data_clean2['Series name'] == variable]\n",
    "    frame = frame.melt(id_vars=['Country code', 'Series name'], var_name='year', value_name=variable)\n",
    "    frame = frame.rename(columns={'Country code': 'country'}).drop('Series name', axis=1)\n",
    "    frame_list.append(frame)"
   ]
  },
  {
   "cell_type": "code",
   "execution_count": 126,
   "id": "d35b98f1-b986-48f1-93ec-d6e9a71ebd4d",
   "metadata": {},
   "outputs": [],
   "source": [
    "# Combine all melted data\n",
    "all_vars = reduce(lambda left, right: pd.merge(left, right, on=['country', 'year'], how='outer'), frame_list)"
   ]
  },
  {
   "cell_type": "code",
   "execution_count": 128,
   "id": "e73f4e79-5887-4528-ac2b-beaac25fac4c",
   "metadata": {},
   "outputs": [
    {
     "name": "stdout",
     "output_type": "stream",
     "text": [
      "Missing values by column:\n",
      "country                   0\n",
      "year                      0\n",
      "cereal_yield           1377\n",
      "fdi_perc_gdp           1111\n",
      "elec_access_perc       5027\n",
      "en_per_gdp             2082\n",
      "en_per_cap             1956\n",
      "co2_ttl                1143\n",
      "co2_per_cap            1146\n",
      "co2_per_gdp            1557\n",
      "other_ghg_ttl          4542\n",
      "ch4_ttl                4526\n",
      "n2o_ttl                4526\n",
      "nat_emerg              4958\n",
      "pop_urb_aggl_perc      2582\n",
      "prot_area_perc          726\n",
      "gdp                     779\n",
      "gni_per_cap            1013\n",
      "under_5_mort_rate       716\n",
      "pop_growth_perc         278\n",
      "pop                     252\n",
      "urb_pop_growth_perc     490\n",
      "urb_pop                 467\n",
      "dtype: int64\n"
     ]
    }
   ],
   "source": [
    "# Check missing values\n",
    "print(\"Missing values by column:\")\n",
    "print(all_vars.isnull().sum())\n",
    "\n",
    "all_vars_clean = all_vars.copy()"
   ]
  },
  {
   "cell_type": "code",
   "execution_count": 130,
   "id": "415d64dd-8e6a-4c75-aa27-9997c0183a8c",
   "metadata": {},
   "outputs": [
    {
     "name": "stdout",
     "output_type": "stream",
     "text": [
      "Missing values by year:\n",
      "2005 : 1189\n",
      "2000 : 1273\n",
      "1995 : 1317\n",
      "1990 : 1427\n",
      "2007 : 1631\n",
      "2006 : 1633\n",
      "2004 : 1646\n",
      "2008 : 1708\n",
      "2003 : 1714\n",
      "2002 : 1715\n",
      "2001 : 1718\n",
      "1999 : 1729\n",
      "1998 : 1739\n",
      "1997 : 1746\n",
      "1996 : 1756\n",
      "1994 : 1781\n",
      "1993 : 1792\n",
      "1992 : 1810\n",
      "1991 : 1921\n",
      "2009 : 2078\n",
      "2010 : 3038\n",
      "2011 : 4893\n",
      "Number of missing values before year filtering: 41254\n",
      "Number of rows before year filtering: 5126\n"
     ]
    }
   ],
   "source": [
    "# Count missing values by year\n",
    "years_count_missing = dict.fromkeys(all_vars_clean['year'].unique(), 0)\n",
    "for ind, row in all_vars_clean.iterrows():\n",
    "    years_count_missing[row['year']] += row.isnull().sum()\n",
    "\n",
    "years_missing_sorted = dict(sorted(years_count_missing.items(), key=lambda item: item[1]))\n",
    "print(\"Missing values by year:\")\n",
    "for key, val in years_missing_sorted.items():\n",
    "    print(key, \":\", val)\n",
    "\n",
    "print(\"Number of missing values before year filtering:\", all_vars_clean.isnull().sum().sum())\n",
    "print(\"Number of rows before year filtering:\", all_vars_clean.shape[0])\n"
   ]
  },
  {
   "cell_type": "code",
   "execution_count": 132,
   "id": "b87f2e42-fab5-4b8b-82d8-b64b91bf9a78",
   "metadata": {},
   "outputs": [
    {
     "name": "stdout",
     "output_type": "stream",
     "text": [
      "Number of missing values after year filtering: 29818\n",
      "Number of rows after year filtering: 4194\n"
     ]
    }
   ],
   "source": [
    "all_vars_clean['year'] = all_vars_clean['year'].astype(int)  # ensure year is integer\n",
    "all_vars_clean = all_vars_clean[(all_vars_clean['year'] >= 1991) & (all_vars_clean['year'] <= 2008)]\n",
    "\n",
    "\n",
    "print(\"Number of missing values after year filtering:\", all_vars_clean.isnull().sum().sum())\n",
    "print(\"Number of rows after year filtering:\", all_vars_clean.shape[0])\n"
   ]
  },
  {
   "cell_type": "code",
   "execution_count": 134,
   "id": "d57b4b0d-fbe7-43dc-a09a-b1deeba88c81",
   "metadata": {},
   "outputs": [
    {
     "name": "stdout",
     "output_type": "stream",
     "text": [
      "Missing values by country:\n",
      "AGO : 81\n",
      "ARG : 81\n",
      "AUS : 81\n",
      "AUT : 81\n",
      "BGD : 81\n",
      "BGR : 81\n",
      "BOL : 81\n",
      "BRA : 81\n",
      "CAN : 81\n",
      "CHE : 81\n",
      "CHL : 81\n",
      "CHN : 81\n",
      "CIV : 81\n",
      "CMR : 81\n",
      "COG : 81\n",
      "COL : 81\n",
      "CRI : 81\n",
      "DEU : 81\n",
      "DNK : 81\n",
      "DOM : 81\n",
      "ECU : 81\n",
      "EGY : 81\n",
      "EMU : 81\n",
      "ESP : 81\n",
      "FIN : 81\n",
      "FRA : 81\n",
      "GBR : 81\n",
      "GHA : 81\n",
      "GTM : 81\n",
      "HND : 81\n",
      "HUN : 81\n",
      "IDN : 81\n",
      "IND : 81\n",
      "IRL : 81\n",
      "ISR : 81\n",
      "ITA : 81\n",
      "JOR : 81\n",
      "JPN : 81\n",
      "KEN : 81\n",
      "KOR : 81\n",
      "LAC : 81\n",
      "LMC : 81\n",
      "LMY : 81\n",
      "MAR : 81\n",
      "MEX : 81\n",
      "MIC : 81\n",
      "MNA : 81\n",
      "MOZ : 81\n",
      "MYS : 81\n",
      "NGA : 81\n",
      "NLD : 81\n",
      "NZL : 81\n",
      "PAK : 81\n",
      "PAN : 81\n",
      "PER : 81\n",
      "PHL : 81\n",
      "PRT : 81\n",
      "PRY : 81\n",
      "ROM : 81\n",
      "SAS : 81\n",
      "SAU : 81\n",
      "SDN : 81\n",
      "SEN : 81\n",
      "SLV : 81\n",
      "SWE : 81\n",
      "SYR : 81\n",
      "TGO : 81\n",
      "THA : 81\n",
      "TUR : 81\n",
      "TZA : 81\n",
      "UMC : 81\n",
      "URY : 81\n",
      "USA : 81\n",
      "VEN : 81\n",
      "VNM : 81\n",
      "ZAF : 81\n",
      "ZMB : 81\n",
      "GRC : 82\n",
      "POL : 82\n",
      "YEM : 82\n",
      "ZAR : 82\n",
      "DZA : 84\n",
      "ETH : 84\n",
      "LIC : 84\n",
      "SSA : 84\n",
      "WLD : 84\n",
      "ARE : 85\n",
      "ECA : 85\n",
      "RUS : 86\n",
      "UKR : 86\n",
      "ARM : 87\n",
      "BLR : 87\n",
      "UZB : 87\n",
      "KAZ : 88\n",
      "CZE : 89\n",
      "IRN : 89\n",
      "BEL : 90\n",
      "AZE : 91\n",
      "GEO : 92\n",
      "LBN : 92\n",
      "HTI : 94\n",
      "NIC : 96\n",
      "BEN : 99\n",
      "BWA : 99\n",
      "CYP : 99\n",
      "GAB : 99\n",
      "HIC : 99\n",
      "JAM : 99\n",
      "KHM : 99\n",
      "LKA : 99\n",
      "MLT : 99\n",
      "MNG : 99\n",
      "NOR : 99\n",
      "OMN : 99\n",
      "SGP : 99\n",
      "TTO : 99\n",
      "TUN : 99\n",
      "ALB : 100\n",
      "EAP : 102\n",
      "NPL : 103\n",
      "EST : 104\n",
      "LVA : 104\n",
      "NAM : 104\n",
      "HRV : 105\n",
      "MDA : 105\n",
      "SVN : 105\n",
      "TJK : 105\n",
      "KGZ : 106\n",
      "LTU : 106\n",
      "MKD : 107\n",
      "SVK : 107\n",
      "TKM : 107\n",
      "LBY : 108\n",
      "LUX : 108\n",
      "BRN : 109\n",
      "KWT : 113\n",
      "BHR : 117\n",
      "CUB : 117\n",
      "ISL : 117\n",
      "ZWE : 117\n",
      "ERI : 121\n",
      "IRQ : 122\n",
      "BIH : 123\n",
      "HKG : 124\n",
      "BFA : 126\n",
      "GIN : 126\n",
      "MDG : 126\n",
      "MLI : 126\n",
      "NER : 126\n",
      "UGA : 126\n",
      "QAT : 135\n",
      "ATG : 136\n",
      "BHS : 136\n",
      "BLZ : 136\n",
      "BRB : 136\n",
      "COM : 136\n",
      "CPV : 136\n",
      "DMA : 136\n",
      "FJI : 136\n",
      "GNB : 136\n",
      "GRD : 136\n",
      "GUY : 136\n",
      "MUS : 136\n",
      "SWZ : 136\n",
      "VCT : 136\n",
      "VUT : 136\n",
      "DJI : 137\n",
      "SLB : 137\n",
      "SUR : 137\n",
      "GMB : 141\n",
      "BDI : 144\n",
      "CAF : 144\n",
      "LAO : 144\n",
      "MRT : 144\n",
      "MWI : 144\n",
      "PNG : 144\n",
      "RWA : 144\n",
      "SLE : 144\n",
      "TCD : 144\n",
      "BTN : 148\n",
      "LBR : 149\n",
      "SID : 152\n",
      "GNQ : 154\n",
      "KNA : 154\n",
      "LCA : 154\n",
      "SYC : 154\n",
      "TON : 154\n",
      "WSM : 154\n",
      "KIR : 156\n",
      "SRB : 158\n",
      "MDV : 164\n",
      "PLW : 166\n",
      "AFG : 170\n",
      "MMR : 171\n",
      "PRK : 171\n",
      "FSM : 184\n",
      "MHL : 184\n",
      "LSO : 190\n",
      "MAC : 198\n",
      "STP : 198\n",
      "TMP : 202\n",
      "NCL : 204\n",
      "ADO : 206\n",
      "SOM : 206\n",
      "WBG : 207\n",
      "GRL : 216\n",
      "ABW : 226\n",
      "BMU : 226\n",
      "PRI : 230\n",
      "MNE : 231\n",
      "PYF : 232\n",
      "LIE : 234\n",
      "MCO : 234\n",
      "CYM : 250\n",
      "FRO : 259\n",
      "GIB : 261\n",
      "COK : 270\n",
      "GUM : 270\n",
      "NIU : 270\n",
      "SMR : 270\n",
      "TUV : 272\n",
      "IMY : 282\n",
      "VIR : 285\n",
      "ASM : 288\n",
      "CHI : 288\n",
      "MNP : 288\n",
      "NRU : 288\n",
      "TCA : 296\n",
      "MYT : 324\n",
      "KSV : 325\n",
      "MAF : 342\n",
      "CUW : 357\n",
      "SXM : 357\n"
     ]
    }
   ],
   "source": [
    "# Missing values by country\n",
    "countries_count_missing = dict.fromkeys(all_vars_clean['country'].unique(), 0)\n",
    "for ind, row in all_vars_clean.iterrows():\n",
    "    countries_count_missing[row['country']] += row.isnull().sum()\n",
    "\n",
    "countries_missing_sorted = dict(sorted(countries_count_missing.items(), key=lambda item: item[1]))\n",
    "print(\"Missing values by country:\")\n",
    "for key, val in countries_missing_sorted.items():\n",
    "    print(key, \":\", val)"
   ]
  },
  {
   "cell_type": "code",
   "execution_count": 136,
   "id": "7fa38da4-e451-42c8-892d-ea7be8c96847",
   "metadata": {},
   "outputs": [
    {
     "name": "stdout",
     "output_type": "stream",
     "text": [
      "Number of missing values before country filtering: 29818\n",
      "Number of rows before country filtering: 4194\n"
     ]
    }
   ],
   "source": [
    "print(\"Number of missing values before country filtering:\", all_vars_clean.isnull().sum().sum())\n",
    "print(\"Number of rows before country filtering:\", all_vars_clean.shape[0])\n"
   ]
  },
  {
   "cell_type": "code",
   "execution_count": 138,
   "id": "ff4646e4-d59e-44ec-8c1b-4be345aff9cd",
   "metadata": {},
   "outputs": [
    {
     "name": "stdout",
     "output_type": "stream",
     "text": [
      "Number of missing values after country filtering: 7854\n",
      "Number of rows after country filtering: 1728\n"
     ]
    }
   ],
   "source": [
    "# Filter countries with fewer than 90 missing values\n",
    "countries_filter = [key for key, val in countries_missing_sorted.items() if val < 90]\n",
    "all_vars_clean = all_vars_clean[all_vars_clean['country'].isin(countries_filter)]\n",
    "\n",
    "print(\"Number of missing values after country filtering:\", all_vars_clean.isnull().sum().sum())\n",
    "print(\"Number of rows after country filtering:\", all_vars_clean.shape[0])\n"
   ]
  },
  {
   "cell_type": "code",
   "execution_count": 140,
   "id": "fcf3c47d-061f-40de-8f10-960d3d7c6882",
   "metadata": {},
   "outputs": [
    {
     "name": "stdout",
     "output_type": "stream",
     "text": [
      "Remaining missing values per column after column filtering:\n",
      "country                 0\n",
      "year                    0\n",
      "cereal_yield           10\n",
      "fdi_perc_gdp           17\n",
      "en_per_gdp              0\n",
      "en_per_cap              0\n",
      "co2_ttl                 9\n",
      "co2_per_cap             9\n",
      "co2_per_gdp             9\n",
      "pop_urb_aggl_perc       0\n",
      "prot_area_perc          0\n",
      "gdp                     2\n",
      "gni_per_cap            16\n",
      "under_5_mort_rate       0\n",
      "pop_growth_perc         0\n",
      "pop                     0\n",
      "urb_pop_growth_perc     0\n",
      "urb_pop                 0\n",
      "dtype: int64\n"
     ]
    }
   ],
   "source": [
    "# Drop columns with > 20 missing values\n",
    "vars_bad = all_vars_clean.isnull().sum() > 20\n",
    "all_vars_clean2 = all_vars_clean.drop(columns=list(compress(all_vars_clean.columns, vars_bad)))\n",
    "\n",
    "print(\"Remaining missing values per column after column filtering:\")\n",
    "print(all_vars_clean2.isnull().sum())\n"
   ]
  },
  {
   "cell_type": "code",
   "execution_count": 142,
   "id": "343dd7e6-ba0b-48eb-8ee9-f6cc3edbc7a6",
   "metadata": {},
   "outputs": [
    {
     "name": "stdout",
     "output_type": "stream",
     "text": [
      "Remaining missing values per column after dropping rows:\n",
      "country                0\n",
      "year                   0\n",
      "cereal_yield           0\n",
      "fdi_perc_gdp           0\n",
      "en_per_gdp             0\n",
      "en_per_cap             0\n",
      "co2_ttl                0\n",
      "co2_per_cap            0\n",
      "co2_per_gdp            0\n",
      "pop_urb_aggl_perc      0\n",
      "prot_area_perc         0\n",
      "gdp                    0\n",
      "gni_per_cap            0\n",
      "under_5_mort_rate      0\n",
      "pop_growth_perc        0\n",
      "pop                    0\n",
      "urb_pop_growth_perc    0\n",
      "urb_pop                0\n",
      "dtype: int64\n",
      "Final shape of the cleaned dataset:\n",
      "(1700, 18)\n"
     ]
    }
   ],
   "source": [
    "# Drop any remaining rows with missing values\n",
    "all_vars_clean3 = all_vars_clean2.dropna()\n",
    "\n",
    "print(\"Remaining missing values per column after dropping rows:\")\n",
    "print(all_vars_clean3.isnull().sum())\n",
    "\n",
    "print(\"Final shape of the cleaned dataset:\")\n",
    "print(all_vars_clean3.shape)\n"
   ]
  },
  {
   "cell_type": "code",
   "execution_count": 144,
   "id": "82bb38c6-570a-4437-8d0c-f5f2c1b87c97",
   "metadata": {},
   "outputs": [],
   "source": [
    "# Export\n",
    "all_vars_clean3.to_csv('data_cleaned.csv', index=False)"
   ]
  },
  {
   "cell_type": "code",
   "execution_count": 149,
   "id": "6c1cd6d1-ab48-4a43-b42b-07009414e0df",
   "metadata": {},
   "outputs": [
    {
     "name": "stdout",
     "output_type": "stream",
     "text": [
      "Column data types after transformation:\n",
      "Country code     object\n",
      "Series name      object\n",
      "1990            float64\n",
      "1991            float64\n",
      "1992            float64\n",
      "1993            float64\n",
      "1994            float64\n",
      "1995            float64\n",
      "1996            float64\n",
      "1997            float64\n",
      "1998            float64\n",
      "1999            float64\n",
      "2000            float64\n",
      "2001            float64\n",
      "2002            float64\n",
      "2003            float64\n",
      "2004            float64\n",
      "2005            float64\n",
      "2006            float64\n",
      "2007            float64\n",
      "2008            float64\n",
      "2009            float64\n",
      "2010            float64\n",
      "2011            float64\n",
      "dtype: object\n"
     ]
    }
   ],
   "source": [
    "# Final check on dtypes\n",
    "print(\"Column data types after transformation:\")\n",
    "print(data_clean2.dtypes)"
   ]
  },
  {
   "cell_type": "code",
   "execution_count": 153,
   "id": "185d2155-00aa-446d-9355-7a93b67417c0",
   "metadata": {},
   "outputs": [
    {
     "name": "stdout",
     "output_type": "stream",
     "text": [
      "Saved file location: C:\\Users\\haris\n"
     ]
    }
   ],
   "source": [
    "import os\n",
    "print(\"Saved file location:\", os.getcwd())\n"
   ]
  },
  {
   "cell_type": "code",
   "execution_count": null,
   "id": "9136caf1-3b74-4c03-85a8-bdc66e83ad07",
   "metadata": {},
   "outputs": [],
   "source": []
  }
 ],
 "metadata": {
  "kernelspec": {
   "display_name": "Python 3 (ipykernel)",
   "language": "python",
   "name": "python3"
  },
  "language_info": {
   "codemirror_mode": {
    "name": "ipython",
    "version": 3
   },
   "file_extension": ".py",
   "mimetype": "text/x-python",
   "name": "python",
   "nbconvert_exporter": "python",
   "pygments_lexer": "ipython3",
   "version": "3.12.4"
  }
 },
 "nbformat": 4,
 "nbformat_minor": 5
}
